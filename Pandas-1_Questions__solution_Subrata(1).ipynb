{
 "cells": [
  {
   "cell_type": "markdown",
   "metadata": {
    "colab_type": "text",
    "id": "eYTOufuWRbUF"
   },
   "source": [
    "<table align=\"left\" width=100%>\n",
    "    <tr>\n",
    "        <td width=\"10%\">\n",
    "            <img src=\"in_class.png\">\n",
    "        </td>\n",
    "        <td>\n",
    "            <div align=\"center\">\n",
    "                <font color=\"#21618C\" size=8px>\n",
    "                    <b>Inclass - Lab<br> (Day 2)\n",
    "                    </b>\n",
    "                </font>\n",
    "            </div>\n",
    "        </td>\n",
    "    </tr>\n",
    "</table>"
   ]
  },
  {
   "cell_type": "markdown",
   "metadata": {
    "colab_type": "text",
    "id": "Mgcw8bP2RbUG"
   },
   "source": [
    "## Table of Content.\n",
    "1. **[Data Structures with Examples](#Data_Structures)**\n",
    "2. **[Create and Manipulate the Data Frames](#create_manipulate)**\n",
    "3. **[Sorting](#sorting)**\n",
    "4. **[Ranking](#ranking)**"
   ]
  },
  {
   "cell_type": "markdown",
   "metadata": {
    "colab_type": "text",
    "id": "WM1yn7xRRbUH"
   },
   "source": [
    "### Let's begin with some hands-on practice exercises."
   ]
  },
  {
   "cell_type": "markdown",
   "metadata": {
    "colab_type": "text",
    "id": "M505ZfgeRbUH"
   },
   "source": [
    "<a id='Data_Structures'></a>\n",
    "## 1. Data Structures with Examples"
   ]
  },
  {
   "cell_type": "markdown",
   "metadata": {
    "colab_type": "text",
    "id": "8KPXWJqTRbUI"
   },
   "source": [
    "<table align=\"left\">\n",
    "    <tr>\n",
    "        <td width=\"6%\">\n",
    "            <img src=\"question_icon.png\">\n",
    "        </td>\n",
    "        <td>\n",
    "            <div align=\"left\", style=\"font-size:120%\">\n",
    "                <font color=\"#21618C\">\n",
    "                    <b>1. Write a program to convert given array to an ordinary list with the same items\n",
    "<b>\n",
    "                </font>\n",
    "            </div>\n",
    "        </td>\n",
    "    </tr>\n",
    "</table>"
   ]
  },
  {
   "cell_type": "markdown",
   "metadata": {
    "colab_type": "text",
    "id": "DAFbnqpXRbUJ"
   },
   "source": [
    "**Use the below array:**<br>\n",
    "array1 = array('b', [21,23,63,74])"
   ]
  },
  {
   "cell_type": "code",
   "execution_count": 10,
   "metadata": {
    "colab": {},
    "colab_type": "code",
    "id": "3i99ZZo1RbUK"
   },
   "outputs": [
    {
     "data": {
      "text/plain": [
       "0    21\n",
       "1    23\n",
       "2    63\n",
       "3    74\n",
       "dtype: int64"
      ]
     },
     "execution_count": 10,
     "metadata": {},
     "output_type": "execute_result"
    }
   ],
   "source": [
    "import array\n",
    "array1 = array.array('b', [21,23,63,74])\n",
    "import pandas as pd\n",
    "pd.Series(array1)"
   ]
  },
  {
   "cell_type": "markdown",
   "metadata": {
    "colab_type": "text",
    "id": "hrusNzw8RbUN"
   },
   "source": [
    "<table align=\"left\">\n",
    "    <tr>\n",
    "        <td width=\"6%\">\n",
    "            <img src=\"question_icon.png\">\n",
    "        </td>\n",
    "        <td>\n",
    "            <div align=\"left\", style=\"font-size:120%\">\n",
    "                <font color=\"#21618C\">\n",
    "                    <b>2. Extract second word from the given string\n",
    "<b>\n",
    "                </font>\n",
    "            </div>\n",
    "        </td>\n",
    "    </tr>\n",
    "</table>"
   ]
  },
  {
   "cell_type": "markdown",
   "metadata": {
    "colab_type": "text",
    "id": "4vsV4W-dRbUO"
   },
   "source": [
    "**Use the below string:**<br>\n",
    "string = 'Be confident and be yourself'"
   ]
  },
  {
   "cell_type": "code",
   "execution_count": 17,
   "metadata": {
    "colab": {},
    "colab_type": "code",
    "id": "OSPco7ZERbUO"
   },
   "outputs": [
    {
     "name": "stdout",
     "output_type": "stream",
     "text": [
      "0           Be\n",
      "1    confident\n",
      "2          and\n",
      "3           be\n",
      "4     yourself\n",
      "dtype: object\n"
     ]
    },
    {
     "data": {
      "text/plain": [
       "'confident'"
      ]
     },
     "execution_count": 17,
     "metadata": {},
     "output_type": "execute_result"
    }
   ],
   "source": [
    "string = 'Be confident and be yourself'\n",
    "y= string.split()\n",
    "string_list = pd.Series(y)\n",
    "print(string_list)\n",
    "string_list[1]"
   ]
  },
  {
   "cell_type": "markdown",
   "metadata": {
    "colab_type": "text",
    "id": "EutDEdywRbUR"
   },
   "source": [
    "<a id='create_manipulate'></a>\n",
    "## 2. Create and Manipulate the Data Frames"
   ]
  },
  {
   "cell_type": "markdown",
   "metadata": {
    "colab_type": "text",
    "id": "6SKHbtIfRbUR"
   },
   "source": [
    "<table align=\"left\">\n",
    "    <tr>\n",
    "        <td width=\"6%\">\n",
    "            <img src=\"question_icon.png\">\n",
    "        </td>\n",
    "        <td>\n",
    "            <div align=\"left\", style=\"font-size:120%\">\n",
    "                <font color=\"#21618C\">\n",
    "                    <b>3. Split a 'Name' column into two seperate columns <b>\n",
    "                </font>\n",
    "            </div>\n",
    "        </td>\n",
    "    </tr>\n",
    "</table>"
   ]
  },
  {
   "cell_type": "markdown",
   "metadata": {
    "colab_type": "text",
    "id": "hgOaefigRbUS"
   },
   "source": [
    "**Use the below data frame:**<br>\n",
    "df = pd.DataFrame({'Name': ['Emma Larter', 'Mia Junior', 'Sophia Depp', 'James Smith'],<br> \n",
    "                   'Salary':[3200, 4500, 3600, 5596]})"
   ]
  },
  {
   "cell_type": "code",
   "execution_count": 8,
   "metadata": {
    "colab": {},
    "colab_type": "code",
    "id": "LWUTgKEFRbUT"
   },
   "outputs": [
    {
     "data": {
      "text/html": [
       "<div>\n",
       "<style scoped>\n",
       "    .dataframe tbody tr th:only-of-type {\n",
       "        vertical-align: middle;\n",
       "    }\n",
       "\n",
       "    .dataframe tbody tr th {\n",
       "        vertical-align: top;\n",
       "    }\n",
       "\n",
       "    .dataframe thead th {\n",
       "        text-align: right;\n",
       "    }\n",
       "</style>\n",
       "<table border=\"1\" class=\"dataframe\">\n",
       "  <thead>\n",
       "    <tr style=\"text-align: right;\">\n",
       "      <th></th>\n",
       "      <th>Name</th>\n",
       "      <th>Salary</th>\n",
       "    </tr>\n",
       "  </thead>\n",
       "  <tbody>\n",
       "    <tr>\n",
       "      <th>0</th>\n",
       "      <td>Emma Larter</td>\n",
       "      <td>3200</td>\n",
       "    </tr>\n",
       "    <tr>\n",
       "      <th>1</th>\n",
       "      <td>Mia Junior</td>\n",
       "      <td>4500</td>\n",
       "    </tr>\n",
       "    <tr>\n",
       "      <th>2</th>\n",
       "      <td>Sophia Depp</td>\n",
       "      <td>3600</td>\n",
       "    </tr>\n",
       "    <tr>\n",
       "      <th>3</th>\n",
       "      <td>James Smith</td>\n",
       "      <td>5596</td>\n",
       "    </tr>\n",
       "  </tbody>\n",
       "</table>\n",
       "</div>"
      ],
      "text/plain": [
       "          Name  Salary\n",
       "0  Emma Larter    3200\n",
       "1   Mia Junior    4500\n",
       "2  Sophia Depp    3600\n",
       "3  James Smith    5596"
      ]
     },
     "execution_count": 8,
     "metadata": {},
     "output_type": "execute_result"
    }
   ],
   "source": [
    "# write your code here\n",
    "import pandas as pd \n",
    "df = pd.DataFrame({'Name': ['Emma Larter', 'Mia Junior', 'Sophia Depp', 'James Smith'],'Salary':[3200, 4500, 3600, 5596]})\n",
    "df\n"
   ]
  },
  {
   "cell_type": "markdown",
   "metadata": {
    "colab_type": "text",
    "id": "HGyoDvVpRbUV"
   },
   "source": [
    "<table align=\"left\">\n",
    "    <tr>\n",
    "        <td width=\"6%\">\n",
    "            <img src=\"question_icon.png\">\n",
    "        </td>\n",
    "        <td>\n",
    "            <div align=\"left\", style=\"font-size:120%\">\n",
    "                <font color=\"#21618C\">\n",
    "                    <b>4. Select the rows from below data frame, whose marks is less than 60 <b>\n",
    "                </font>\n",
    "            </div>\n",
    "        </td>\n",
    "    </tr>\n",
    "</table>"
   ]
  },
  {
   "cell_type": "markdown",
   "metadata": {
    "colab_type": "text",
    "id": "lQckGX2aRbUW"
   },
   "source": [
    "**Use the below data frame:**<br>\n",
    "df_student = pd.DataFrame({'Name': ['John', 'Robert', 'Jonny', 'Mia'],<br>\n",
    "                           'Marks': [90, 50, 89, 55]<br>\n",
    "})"
   ]
  },
  {
   "cell_type": "code",
   "execution_count": 12,
   "metadata": {
    "colab": {},
    "colab_type": "code",
    "id": "soCBDp1aRbUW"
   },
   "outputs": [
    {
     "data": {
      "text/html": [
       "<div>\n",
       "<style scoped>\n",
       "    .dataframe tbody tr th:only-of-type {\n",
       "        vertical-align: middle;\n",
       "    }\n",
       "\n",
       "    .dataframe tbody tr th {\n",
       "        vertical-align: top;\n",
       "    }\n",
       "\n",
       "    .dataframe thead th {\n",
       "        text-align: right;\n",
       "    }\n",
       "</style>\n",
       "<table border=\"1\" class=\"dataframe\">\n",
       "  <thead>\n",
       "    <tr style=\"text-align: right;\">\n",
       "      <th></th>\n",
       "      <th>Name</th>\n",
       "      <th>Marks</th>\n",
       "    </tr>\n",
       "  </thead>\n",
       "  <tbody>\n",
       "    <tr>\n",
       "      <th>1</th>\n",
       "      <td>Robert</td>\n",
       "      <td>50</td>\n",
       "    </tr>\n",
       "    <tr>\n",
       "      <th>3</th>\n",
       "      <td>Mia</td>\n",
       "      <td>55</td>\n",
       "    </tr>\n",
       "  </tbody>\n",
       "</table>\n",
       "</div>"
      ],
      "text/plain": [
       "     Name  Marks\n",
       "1  Robert     50\n",
       "3     Mia     55"
      ]
     },
     "execution_count": 12,
     "metadata": {},
     "output_type": "execute_result"
    }
   ],
   "source": [
    "# write your code here\n",
    "df_student = pd.DataFrame({'Name': ['John', 'Robert', 'Jonny', 'Mia'],'Marks': [90, 50, 89, 55]})\n",
    "final_df= df_student[df_student['Marks']<60]\n",
    "final_df\n"
   ]
  },
  {
   "cell_type": "markdown",
   "metadata": {
    "colab_type": "text",
    "id": "MS4YsBkTRbUZ"
   },
   "source": [
    "<table align=\"left\">\n",
    "    <tr>\n",
    "        <td width=\"6%\">\n",
    "            <img src=\"question_icon.png\">\n",
    "        </td>\n",
    "        <td>\n",
    "            <div align=\"left\", style=\"font-size:120%\">\n",
    "                <font color=\"#21618C\">\n",
    "                    <b>5. Write a program to select the rows, where the sales are greater than 60000 for Mumbai location <b>\n",
    "                </font>\n",
    "            </div>\n",
    "        </td>\n",
    "    </tr>\n",
    "</table>"
   ]
  },
  {
   "cell_type": "markdown",
   "metadata": {
    "colab_type": "text",
    "id": "P2PxI8JwRbUa"
   },
   "source": [
    "**Use the below dataframe:**<br>\n",
    "df_store = pd.DataFrame({'Store': ['A', 'B', 'A', 'C', 'D', 'A', 'D', 'A', 'C', 'B'],<br>\n",
    "                         'Location': ['Mumbai', 'Pune', 'Hyderabad', 'Mumbai', 'Pune', 'Delhi', 'Hyderabad', 'Pune',<br>\n",
    "                         'Mumbai', 'Pune'],<br>\n",
    "                         'Sales': [40000, 45600, 56000, 90000, 89000, 87000, 85000, 78000, 89000, 70000]<br>\n",
    "})"
   ]
  },
  {
   "cell_type": "code",
   "execution_count": 13,
   "metadata": {
    "colab": {},
    "colab_type": "code",
    "id": "-ykN_9y8RbUa"
   },
   "outputs": [
    {
     "name": "stdout",
     "output_type": "stream",
     "text": [
      "  Store   Location  Sales\n",
      "0     A     Mumbai  40000\n",
      "1     B       Pune  45600\n",
      "2     A  Hyderabad  56000\n",
      "3     C     Mumbai  90000\n",
      "4     D       Pune  89000\n",
      "5     A      Delhi  87000\n",
      "6     D  Hyderabad  85000\n",
      "7     A       Pune  78000\n",
      "8     C     Mumbai  89000\n",
      "9     B       Pune  70000\n",
      "sales are greater than 60000 for Mumbai location :-\n",
      "  Store Location  Sales\n",
      "3     C   Mumbai  90000\n",
      "8     C   Mumbai  89000\n"
     ]
    }
   ],
   "source": [
    "import pandas as pd\n",
    "df_store = pd.DataFrame({'Store': ['A', 'B', 'A', 'C', 'D', 'A', 'D', 'A', 'C', 'B'],\n",
    "'Location': ['Mumbai', 'Pune', 'Hyderabad', 'Mumbai', 'Pune', 'Delhi', 'Hyderabad', 'Pune',\n",
    "'Mumbai', 'Pune'],\n",
    "'Sales': [40000, 45600, 56000, 90000, 89000, 87000, 85000, 78000, 89000, 70000]})\n",
    "print(df_store)\n",
    "Final_df=df_store[(df_store.Location == 'Mumbai') & (df_store.Sales>60000)]\n",
    "print('sales are greater than 60000 for Mumbai location :-')\n",
    "print(Final_df)"
   ]
  },
  {
   "cell_type": "markdown",
   "metadata": {
    "colab_type": "text",
    "id": "SoPrcxboRbUe"
   },
   "source": [
    "<table align=\"left\">\n",
    "    <tr>\n",
    "        <td width=\"6%\">\n",
    "            <img src=\"question_icon.png\">\n",
    "        </td>\n",
    "        <td>\n",
    "            <div align=\"left\", style=\"font-size:120%\">\n",
    "                <font color=\"#21618C\">\n",
    "                    <b>6. Write a program to display a summary of the basic information about a given data frame<b>\n",
    "                </font>\n",
    "            </div>\n",
    "        </td>\n",
    "    </tr>\n",
    "</table>"
   ]
  },
  {
   "cell_type": "markdown",
   "metadata": {
    "colab_type": "text",
    "id": "C9zu7zyuRbUf"
   },
   "source": [
    "**Use the below dataframe:**<br>\n",
    "df_store = pd.DataFrame({'Store': ['A', 'B', 'A', 'C', 'D', 'A', 'D', 'A', 'C', 'B'],<br>\n",
    "                         'Location': ['Mumbai', 'Pune', 'Hyderabad', 'Mumbai', 'Pune', 'Delhi', 'Hyderabad', 'Pune',<br>\n",
    "                         'Mumbai', 'Pune'],<br>\n",
    "                         'Sales': [40000, 45600, 56000, 90000, 89000, 87000, 85000, 78000, 89000, 70000]<br>\n",
    "})"
   ]
  },
  {
   "cell_type": "code",
   "execution_count": 14,
   "metadata": {
    "colab": {},
    "colab_type": "code",
    "id": "zS_Gmgn2RbUf"
   },
   "outputs": [
    {
     "name": "stdout",
     "output_type": "stream",
     "text": [
      "<class 'pandas.core.frame.DataFrame'>\n",
      "RangeIndex: 10 entries, 0 to 9\n",
      "Data columns (total 3 columns):\n",
      " #   Column    Non-Null Count  Dtype \n",
      "---  ------    --------------  ----- \n",
      " 0   Store     10 non-null     object\n",
      " 1   Location  10 non-null     object\n",
      " 2   Sales     10 non-null     int64 \n",
      "dtypes: int64(1), object(2)\n",
      "memory usage: 368.0+ bytes\n",
      "None\n"
     ]
    }
   ],
   "source": [
    "df_store = pd.DataFrame({'Store': ['A', 'B', 'A', 'C', 'D', 'A', 'D', 'A', 'C', 'B'],\n",
    "'Location': ['Mumbai', 'Pune', 'Hyderabad', 'Mumbai', 'Pune', 'Delhi', 'Hyderabad', 'Pune',\n",
    "'Mumbai', 'Pune'],\n",
    "'Sales': [40000, 45600, 56000, 90000, 89000, 87000, 85000, 78000, 89000, 70000]})\n",
    "print(df_store.info())"
   ]
  },
  {
   "cell_type": "code",
   "execution_count": 15,
   "metadata": {},
   "outputs": [
    {
     "name": "stdout",
     "output_type": "stream",
     "text": [
      "              Sales\n",
      "count     10.000000\n",
      "mean   72960.000000\n",
      "std    19159.401522\n",
      "min    40000.000000\n",
      "25%    59500.000000\n",
      "50%    81500.000000\n",
      "75%    88500.000000\n",
      "max    90000.000000\n"
     ]
    }
   ],
   "source": [
    "print(df_store.describe())"
   ]
  },
  {
   "cell_type": "code",
   "execution_count": 16,
   "metadata": {},
   "outputs": [
    {
     "name": "stdout",
     "output_type": "stream",
     "text": [
      "       Store Location         Sales\n",
      "count     10       10     10.000000\n",
      "unique     4        4           NaN\n",
      "top        A     Pune           NaN\n",
      "freq       4        4           NaN\n",
      "mean     NaN      NaN  72960.000000\n",
      "std      NaN      NaN  19159.401522\n",
      "min      NaN      NaN  40000.000000\n",
      "25%      NaN      NaN  59500.000000\n",
      "50%      NaN      NaN  81500.000000\n",
      "75%      NaN      NaN  88500.000000\n",
      "max      NaN      NaN  90000.000000\n"
     ]
    }
   ],
   "source": [
    "print(df_store.describe(include='all'))"
   ]
  },
  {
   "cell_type": "markdown",
   "metadata": {
    "colab_type": "text",
    "id": "nYi2z54ZRbUi"
   },
   "source": [
    "<table align=\"left\">\n",
    "    <tr>\n",
    "        <td width=\"6%\">\n",
    "            <img src=\"question_icon.png\">\n",
    "        </td>\n",
    "        <td>\n",
    "            <div align=\"left\", style=\"font-size:120%\">\n",
    "                <font color=\"#21618C\">\n",
    "                    <b>7. Write a program to replace the ‘Store' column, contains the values 'A', 'B', 'C', and 'D' with 'Store_A', Store_B', 'Store_C' and 'Store_D' respectively\n",
    "<b>\n",
    "                </font>\n",
    "            </div>\n",
    "        </td>\n",
    "    </tr>\n",
    "</table>"
   ]
  },
  {
   "cell_type": "markdown",
   "metadata": {
    "colab_type": "text",
    "id": "dKKsmpcRRbUi"
   },
   "source": [
    "**Use the below dataframe:**<br>\n",
    "df_store = pd.DataFrame({'Store': ['A', 'B', 'A', 'C', 'D', 'A', 'D', 'A', 'C', 'B'],<br>\n",
    "                         'Location': ['Mumbai', 'Pune', 'Hyderabad', 'Mumbai', 'Pune', 'Delhi', 'Hyderabad', 'Pune',<br>\n",
    "                         'Mumbai', 'Pune'],<br>\n",
    "                         'Sales': [40000, 45600, 56000, 90000, 89000, 87000, 85000, 78000, 89000, 70000]<br>\n",
    "})"
   ]
  },
  {
   "cell_type": "code",
   "execution_count": 20,
   "metadata": {
    "colab": {},
    "colab_type": "code",
    "id": "cJw5uKELRbUi"
   },
   "outputs": [
    {
     "name": "stdout",
     "output_type": "stream",
     "text": [
      "  Store   Location  Sales\n",
      "0     A     Mumbai  40000\n",
      "1     B       Pune  45600\n",
      "2     A  Hyderabad  56000\n",
      "3     C     Mumbai  90000\n",
      "4     D       Pune  89000\n",
      "5     A      Delhi  87000\n",
      "6     D  Hyderabad  85000\n",
      "7     A       Pune  78000\n",
      "8     C     Mumbai  89000\n",
      "9     B       Pune  70000\n",
      "After replace :-\n",
      "     Store   Location  Sales\n",
      "0  Store_A     Mumbai  40000\n",
      "1  Store_B       Pune  45600\n",
      "2  Store_A  Hyderabad  56000\n",
      "3  Store_C     Mumbai  90000\n",
      "4  Store_D       Pune  89000\n",
      "5  Store_A      Delhi  87000\n",
      "6  Store_D  Hyderabad  85000\n",
      "7  Store_A       Pune  78000\n",
      "8  Store_C     Mumbai  89000\n",
      "9  Store_B       Pune  70000\n"
     ]
    }
   ],
   "source": [
    "  df_store = pd.DataFrame({'Store': ['A', 'B', 'A', 'C', 'D', 'A', 'D', 'A', 'C', 'B'],\n",
    "'Location': ['Mumbai', 'Pune', 'Hyderabad', 'Mumbai', 'Pune', 'Delhi', 'Hyderabad', 'Pune',\n",
    "'Mumbai', 'Pune'],\n",
    "'Sales': [40000, 45600, 56000, 90000, 89000, 87000, 85000, 78000, 89000, 70000]})\n",
    "print(df_store)\n",
    "df_store.Store=df_store.Store.map({'A':'Store_A', 'B':'Store_B', 'C':'Store_C','D':'Store_D'})\n",
    "print('After replace :-')\n",
    "print(df_store)"
   ]
  },
  {
   "cell_type": "markdown",
   "metadata": {
    "colab_type": "text",
    "id": "TVA2mt_KRbUl"
   },
   "source": [
    "<table align=\"left\">\n",
    "    <tr>\n",
    "        <td width=\"6%\">\n",
    "            <img src=\"question_icon.png\">\n",
    "        </td>\n",
    "        <td>\n",
    "            <div align=\"left\", style=\"font-size:120%\">\n",
    "                <font color=\"#21618C\">\n",
    "                    <b>8. Create a dataframe in pandas using list and series\n",
    "<b>\n",
    "                </font>\n",
    "            </div>\n",
    "        </td>\n",
    "    </tr>\n",
    "</table>"
   ]
  },
  {
   "cell_type": "code",
   "execution_count": 10,
   "metadata": {
    "colab": {},
    "colab_type": "code",
    "id": "XglG84OnRbUl"
   },
   "outputs": [
    {
     "name": "stdout",
     "output_type": "stream",
     "text": [
      "<class 'pandas.core.series.Series'>\n",
      "<class 'list'>\n"
     ]
    },
    {
     "data": {
      "text/html": [
       "<div>\n",
       "<style scoped>\n",
       "    .dataframe tbody tr th:only-of-type {\n",
       "        vertical-align: middle;\n",
       "    }\n",
       "\n",
       "    .dataframe tbody tr th {\n",
       "        vertical-align: top;\n",
       "    }\n",
       "\n",
       "    .dataframe thead th {\n",
       "        text-align: right;\n",
       "    }\n",
       "</style>\n",
       "<table border=\"1\" class=\"dataframe\">\n",
       "  <thead>\n",
       "    <tr style=\"text-align: right;\">\n",
       "      <th></th>\n",
       "      <th>Subject</th>\n",
       "      <th>Marks</th>\n",
       "    </tr>\n",
       "  </thead>\n",
       "  <tbody>\n",
       "    <tr>\n",
       "      <th>0</th>\n",
       "      <td>Maths</td>\n",
       "      <td>90</td>\n",
       "    </tr>\n",
       "    <tr>\n",
       "      <th>1</th>\n",
       "      <td>Physics</td>\n",
       "      <td>95</td>\n",
       "    </tr>\n",
       "    <tr>\n",
       "      <th>2</th>\n",
       "      <td>Fluid Mechanics</td>\n",
       "      <td>70</td>\n",
       "    </tr>\n",
       "    <tr>\n",
       "      <th>3</th>\n",
       "      <td>Som</td>\n",
       "      <td>85</td>\n",
       "    </tr>\n",
       "    <tr>\n",
       "      <th>4</th>\n",
       "      <td>Machine Design</td>\n",
       "      <td>78</td>\n",
       "    </tr>\n",
       "  </tbody>\n",
       "</table>\n",
       "</div>"
      ],
      "text/plain": [
       "           Subject  Marks\n",
       "0            Maths     90\n",
       "1          Physics     95\n",
       "2  Fluid Mechanics     70\n",
       "3              Som     85\n",
       "4   Machine Design     78"
      ]
     },
     "execution_count": 10,
     "metadata": {},
     "output_type": "execute_result"
    }
   ],
   "source": [
    "x=pd.Series(['Maths','Physics','Fluid Mechanics','Som','Machine Design'])\n",
    "y=[90,95,70,85,78]\n",
    "print(type(x))\n",
    "print(type(y))\n",
    "Data={'Subject':x,'Marks':y}\n",
    "pd.DataFrame(Data)"
   ]
  },
  {
   "cell_type": "markdown",
   "metadata": {
    "colab_type": "text",
    "id": "CWgXGHK4RbUo"
   },
   "source": [
    "<table align=\"left\">\n",
    "    <tr>\n",
    "        <td width=\"6%\">\n",
    "            <img src=\"question_icon.png\">\n",
    "        </td>\n",
    "        <td>\n",
    "            <div align=\"left\", style=\"font-size:120%\">\n",
    "                <font color=\"#21618C\">\n",
    "                    <b>9. Save a given dataframe to a csv file\n",
    "<b>\n",
    "                </font>\n",
    "            </div>\n",
    "        </td>\n",
    "    </tr>\n",
    "</table>"
   ]
  },
  {
   "cell_type": "markdown",
   "metadata": {
    "colab_type": "text",
    "id": "t-TsnZ60RbUo"
   },
   "source": [
    "**Use the below dataframe:**<br>\n",
    "df_store = pd.DataFrame({'Store': ['A', 'B', 'A', 'C', 'D', 'A', 'D', 'A', 'C', 'B'],<br>\n",
    "                         'Location': ['Mumbai', 'Pune', 'Hyderabad', 'Mumbai', 'Pune', 'Delhi', 'Hyderabad', 'Pune',<br>\n",
    "                         'Mumbai', 'Pune'],<br>\n",
    "                         'Sales': [40000, 45600, 56000, 90000, 89000, 87000, 85000, 78000, 89000, 70000]<br>\n",
    "})"
   ]
  },
  {
   "cell_type": "code",
   "execution_count": 14,
   "metadata": {
    "colab": {},
    "colab_type": "code",
    "id": "VQI_oDu9RbUp"
   },
   "outputs": [
    {
     "name": "stdout",
     "output_type": "stream",
     "text": [
      "  Store   Location  Sales\n",
      "0     A     Mumbai  40000\n",
      "1     B       Pune  45600\n",
      "2     A  Hyderabad  56000\n",
      "3     C     Mumbai  90000\n",
      "4     D       Pune  89000\n",
      "5     A      Delhi  87000\n",
      "6     D  Hyderabad  85000\n",
      "7     A       Pune  78000\n",
      "8     C     Mumbai  89000\n",
      "9     B       Pune  70000\n",
      "   Unnamed: 0 Store   Location  Sales\n",
      "0           0     A     Mumbai  40000\n",
      "1           1     B       Pune  45600\n",
      "2           2     A  Hyderabad  56000\n",
      "3           3     C     Mumbai  90000\n",
      "4           4     D       Pune  89000\n",
      "5           5     A      Delhi  87000\n",
      "6           6     D  Hyderabad  85000\n",
      "7           7     A       Pune  78000\n",
      "8           8     C     Mumbai  89000\n",
      "9           9     B       Pune  70000\n"
     ]
    }
   ],
   "source": [
    "df_store = pd.DataFrame({'Store': ['A', 'B', 'A', 'C', 'D', 'A', 'D', 'A', 'C', 'B'],\n",
    "'Location': ['Mumbai', 'Pune', 'Hyderabad', 'Mumbai', 'Pune', 'Delhi', 'Hyderabad', 'Pune',\n",
    "'Mumbai', 'Pune'],\n",
    "'Sales': [40000, 45600, 56000, 90000, 89000, 87000, 85000, 78000, 89000, 70000]})\n",
    "print(df_store)\n",
    "df_store.to_csv('Store.csv')\n",
    "df_store2 = pd.read_csv('Store.csv')\n",
    "print(df_store2)\n"
   ]
  },
  {
   "cell_type": "markdown",
   "metadata": {
    "colab_type": "text",
    "id": "BBpk9v5zRbUr"
   },
   "source": [
    "<table align=\"left\">\n",
    "    <tr>\n",
    "        <td width=\"6%\">\n",
    "            <img src=\"question_icon.png\">\n",
    "        </td>\n",
    "        <td>\n",
    "            <div align=\"left\", style=\"font-size:120%\">\n",
    "                <font color=\"#21618C\">\n",
    "                    <b>10. Find the maximum sales for each store\n",
    "<b>\n",
    "                </font>\n",
    "            </div>\n",
    "        </td>\n",
    "    </tr>\n",
    "</table>"
   ]
  },
  {
   "cell_type": "markdown",
   "metadata": {
    "colab_type": "text",
    "id": "siEl2XUURbUs"
   },
   "source": [
    "**Use the below dataframe:**<br>\n",
    "df_store = pd.DataFrame({'Store': ['A', 'B', 'A', 'C', 'D', 'A', 'D', 'A', 'C', 'B'],<br>\n",
    "                         'Location': ['Mumbai', 'Pune', 'Hyderabad', 'Mumbai', 'Pune', 'Delhi', 'Hyderabad', 'Pune',<br>\n",
    "                         'Mumbai', 'Pune'],<br>\n",
    "                         'Sales': [40000, 45600, 56000, 90000, 89000, 87000, 85000, 78000, 89000, 70000]<br>\n",
    "})"
   ]
  },
  {
   "cell_type": "code",
   "execution_count": 1,
   "metadata": {
    "colab": {},
    "colab_type": "code",
    "id": "WXrVapSLRbUs"
   },
   "outputs": [
    {
     "name": "stdout",
     "output_type": "stream",
     "text": [
      "  Store   Location  Sales\n",
      "0     A     Mumbai  40000\n",
      "1     B       Pune  45600\n",
      "2     A  Hyderabad  56000\n",
      "3     C     Mumbai  90000\n",
      "4     D       Pune  89000\n",
      "5     A      Delhi  87000\n",
      "6     D  Hyderabad  85000\n",
      "7     A       Pune  78000\n",
      "8     C     Mumbai  89000\n",
      "9     B       Pune  70000\n",
      " maximum sales for each store :-\n",
      "  Store  Sales\n",
      "0     A  87000\n",
      "1     B  70000\n",
      "2     C  90000\n",
      "3     D  89000\n"
     ]
    }
   ],
   "source": [
    "import pandas as pd\n",
    "df_store = pd.DataFrame({'Store': ['A', 'B', 'A', 'C', 'D', 'A', 'D', 'A', 'C', 'B'],\n",
    "'Location': ['Mumbai', 'Pune', 'Hyderabad', 'Mumbai', 'Pune', 'Delhi', 'Hyderabad', 'Pune',\n",
    "'Mumbai', 'Pune'],\n",
    "'Sales': [40000, 45600, 56000, 90000, 89000, 87000, 85000, 78000, 89000, 70000]})\n",
    "print(df_store)\n",
    "grouped_df_store = df_store.groupby(\"Store\")\n",
    "maximums = grouped_df_store.max()\n",
    "maximums = maximums.reset_index()\n",
    "maximums.drop(columns='Location', inplace=True)\n",
    "print(' maximum sales for each store :-')\n",
    "print(maximums)"
   ]
  },
  {
   "cell_type": "markdown",
   "metadata": {
    "colab_type": "text",
    "id": "C8QNUNd8RbUu"
   },
   "source": [
    "<table align=\"left\">\n",
    "    <tr>\n",
    "        <td width=\"6%\">\n",
    "            <img src=\"question_icon.png\">\n",
    "        </td>\n",
    "        <td>\n",
    "            <div align=\"left\", style=\"font-size:120%\">\n",
    "                <font color=\"#21618C\">\n",
    "                    <b>11. Write a program to select all columns, except 'Ranking_Rate' column in a data frame\n",
    "<b>\n",
    "                </font>\n",
    "            </div>\n",
    "        </td>\n",
    "    </tr>\n",
    "</table>"
   ]
  },
  {
   "cell_type": "markdown",
   "metadata": {
    "colab_type": "text",
    "id": "lhdStUpZRbUv"
   },
   "source": [
    "**Use the below dataframe:**<br>\n",
    "df_store = pd.DataFrame({'Store': ['A', 'B', 'A', 'C', 'D', 'A', 'D', 'A', 'C', 'B'],<br>\n",
    "                         'Location': ['Mumbai', 'Pune', 'Hyderabad', 'Mumbai', 'Pune', 'Delhi', 'Hyderabad', 'Pune',<br>\n",
    "                         'Mumbai', 'Pune'],<br>\n",
    "                         'Sales': [40000, 45600, 56000, 90000, 89000, 87000, 85000, 78000, 89000, 70000]<br>\n",
    "})"
   ]
  },
  {
   "cell_type": "code",
   "execution_count": 3,
   "metadata": {
    "colab": {},
    "colab_type": "code",
    "id": "Uq7hIDkyRbUv"
   },
   "outputs": [
    {
     "name": "stdout",
     "output_type": "stream",
     "text": [
      "  Store   Location  Sales\n",
      "0     A     Mumbai  40000\n",
      "1     B       Pune  45600\n",
      "2     A  Hyderabad  56000\n",
      "3     C     Mumbai  90000\n",
      "4     D       Pune  89000\n",
      "5     A      Delhi  87000\n",
      "6     D  Hyderabad  85000\n",
      "7     A       Pune  78000\n",
      "8     C     Mumbai  89000\n",
      "9     B       Pune  70000\n",
      "Added Ranking_Rate :-\n",
      "  Store   Location  Sales  Ranking_Rate\n",
      "0     A     Mumbai  40000          10.0\n",
      "1     B       Pune  45600           9.0\n",
      "2     A  Hyderabad  56000           8.0\n",
      "3     C     Mumbai  90000           1.0\n",
      "4     D       Pune  89000           2.0\n",
      "5     A      Delhi  87000           4.0\n",
      "6     D  Hyderabad  85000           5.0\n",
      "7     A       Pune  78000           6.0\n",
      "8     C     Mumbai  89000           2.0\n",
      "9     B       Pune  70000           7.0\n",
      "All columns  except Ranking_Rate column in a df_store :-\n",
      "  Store   Location  Sales\n",
      "0     A     Mumbai  40000\n",
      "1     B       Pune  45600\n",
      "2     A  Hyderabad  56000\n",
      "3     C     Mumbai  90000\n",
      "4     D       Pune  89000\n",
      "5     A      Delhi  87000\n",
      "6     D  Hyderabad  85000\n",
      "7     A       Pune  78000\n",
      "8     C     Mumbai  89000\n",
      "9     B       Pune  70000\n"
     ]
    }
   ],
   "source": [
    "df_store = pd.DataFrame({'Store': ['A', 'B', 'A', 'C', 'D', 'A', 'D', 'A', 'C', 'B'],\n",
    "'Location': ['Mumbai', 'Pune', 'Hyderabad', 'Mumbai', 'Pune', 'Delhi', 'Hyderabad', 'Pune',\n",
    "'Mumbai', 'Pune'],\n",
    "'Sales': [40000, 45600, 56000, 90000, 89000, 87000, 85000, 78000, 89000, 70000]})\n",
    "print(df_store)\n",
    "df_store['Ranking_Rate'] =df_store['Sales'].rank(ascending=0,method= 'min')\n",
    "print('Added Ranking_Rate :-')\n",
    "print(df_store)\n",
    "df_store =df_store.loc[:,df_store.columns !='Ranking_Rate']\n",
    "print('All columns  except Ranking_Rate column in a df_store :-')\n",
    "print(df_store)"
   ]
  },
  {
   "cell_type": "markdown",
   "metadata": {
    "colab_type": "text",
    "id": "AdbUdO6iRbUy"
   },
   "source": [
    "<table align=\"left\">\n",
    "    <tr>\n",
    "        <td width=\"6%\">\n",
    "            <img src=\"question_icon.png\">\n",
    "        </td>\n",
    "        <td>\n",
    "            <div align=\"left\", style=\"font-size:120%\">\n",
    "                <font color=\"#21618C\">\n",
    "                    <b>12. Write a program to insert a given column at a specific column index in a data frame\n",
    "<b>\n",
    "                </font>\n",
    "            </div>\n",
    "        </td>\n",
    "    </tr>\n",
    "</table>"
   ]
  },
  {
   "cell_type": "markdown",
   "metadata": {
    "colab_type": "text",
    "id": "1GysZf7XRbUz"
   },
   "source": [
    "**Use the below data frame**<br>\n",
    "data = {'Name': ['Emma Larter', 'Mia Junior', 'Sophia Depp', 'James Smith'], 'Age': [34, 59, 32, 40]}<br>\n",
    "df = pd.DataFrame(data=data)<br><br>\n",
    "**Add the new variable salary as third column**<br>\n",
    "salary = [35000, 24000, 55000, 40000]"
   ]
  },
  {
   "cell_type": "code",
   "execution_count": 24,
   "metadata": {
    "colab": {},
    "colab_type": "code",
    "id": "YqSIBh6RRbUz"
   },
   "outputs": [
    {
     "name": "stdout",
     "output_type": "stream",
     "text": [
      "          Name  Age\n",
      "0  Emma Larter   34\n",
      "1   Mia Junior   59\n",
      "2  Sophia Depp   32\n",
      "3  James Smith   40\n"
     ]
    },
    {
     "data": {
      "text/html": [
       "<div>\n",
       "<style scoped>\n",
       "    .dataframe tbody tr th:only-of-type {\n",
       "        vertical-align: middle;\n",
       "    }\n",
       "\n",
       "    .dataframe tbody tr th {\n",
       "        vertical-align: top;\n",
       "    }\n",
       "\n",
       "    .dataframe thead th {\n",
       "        text-align: right;\n",
       "    }\n",
       "</style>\n",
       "<table border=\"1\" class=\"dataframe\">\n",
       "  <thead>\n",
       "    <tr style=\"text-align: right;\">\n",
       "      <th></th>\n",
       "      <th>Name</th>\n",
       "      <th>Age</th>\n",
       "      <th>salary</th>\n",
       "    </tr>\n",
       "  </thead>\n",
       "  <tbody>\n",
       "    <tr>\n",
       "      <th>0</th>\n",
       "      <td>Emma Larter</td>\n",
       "      <td>34</td>\n",
       "      <td>35000</td>\n",
       "    </tr>\n",
       "    <tr>\n",
       "      <th>1</th>\n",
       "      <td>Mia Junior</td>\n",
       "      <td>59</td>\n",
       "      <td>24000</td>\n",
       "    </tr>\n",
       "    <tr>\n",
       "      <th>2</th>\n",
       "      <td>Sophia Depp</td>\n",
       "      <td>32</td>\n",
       "      <td>55000</td>\n",
       "    </tr>\n",
       "    <tr>\n",
       "      <th>3</th>\n",
       "      <td>James Smith</td>\n",
       "      <td>40</td>\n",
       "      <td>40000</td>\n",
       "    </tr>\n",
       "  </tbody>\n",
       "</table>\n",
       "</div>"
      ],
      "text/plain": [
       "          Name  Age  salary\n",
       "0  Emma Larter   34   35000\n",
       "1   Mia Junior   59   24000\n",
       "2  Sophia Depp   32   55000\n",
       "3  James Smith   40   40000"
      ]
     },
     "execution_count": 24,
     "metadata": {},
     "output_type": "execute_result"
    }
   ],
   "source": [
    "data = {'Name': ['Emma Larter', 'Mia Junior', 'Sophia Depp', 'James Smith'], 'Age': [34, 59, 32, 40]}\n",
    "df = pd.DataFrame(data=data)\n",
    "print(df)\n",
    "df['salary']=[35000, 24000, 55000, 40000]\n",
    "df"
   ]
  },
  {
   "cell_type": "markdown",
   "metadata": {
    "colab_type": "text",
    "id": "mPXB8vQ8RbU2"
   },
   "source": [
    "<table align=\"left\">\n",
    "    <tr>\n",
    "        <td width=\"6%\">\n",
    "            <img src=\"question_icon.png\">\n",
    "        </td>\n",
    "        <td>\n",
    "            <div align=\"left\", style=\"font-size:120%\">\n",
    "                <font color=\"#21618C\">\n",
    "                    <b>13. Write a program to get the third row of a given data frame\n",
    "<b>\n",
    "                </font>\n",
    "            </div>\n",
    "        </td>\n",
    "    </tr>\n",
    "</table>"
   ]
  },
  {
   "cell_type": "markdown",
   "metadata": {
    "colab_type": "text",
    "id": "TYCfvoUmRbU2"
   },
   "source": [
    "**Use the below data frame**<br>\n",
    "data = {'Name': ['Emma Larter', 'Mia Junior', 'Sophia Depp', 'James Smith'], 'Age': [34, 59, 32, 40]}<br>\n",
    "df = pd.DataFrame(data=data)<br><br>"
   ]
  },
  {
   "cell_type": "code",
   "execution_count": 32,
   "metadata": {
    "colab": {},
    "colab_type": "code",
    "id": "hK22ZeHvRbU3"
   },
   "outputs": [
    {
     "name": "stdout",
     "output_type": "stream",
     "text": [
      "          Name  Age\n",
      "0  Emma Larter   34\n",
      "1   Mia Junior   59\n",
      "2  Sophia Depp   32\n",
      "3  James Smith   40\n",
      "Third row of a given data frame :-\n",
      "Name    Sophia Depp\n",
      "Age              32\n",
      "Name: 2, dtype: object\n"
     ]
    }
   ],
   "source": [
    "data = {'Name': ['Emma Larter', 'Mia Junior', 'Sophia Depp', 'James Smith'], 'Age': [34, 59, 32, 40]}\n",
    "df = pd.DataFrame(data=data)\n",
    "print(df)\n",
    "print( 'Third row of a given data frame :-')\n",
    "print(df.iloc[2])"
   ]
  },
  {
   "cell_type": "markdown",
   "metadata": {
    "colab_type": "text",
    "id": "yNEIFxqIRbU6"
   },
   "source": [
    "<table align=\"left\">\n",
    "    <tr>\n",
    "        <td width=\"6%\">\n",
    "            <img src=\"question_icon.png\">\n",
    "        </td>\n",
    "        <td>\n",
    "            <div align=\"left\", style=\"font-size:120%\">\n",
    "                <font color=\"#21618C\">\n",
    "                    <b>14. Write a program to create a data frame from a numpy array\n",
    "<b>\n",
    "                </font>\n",
    "            </div>\n",
    "        </td>\n",
    "    </tr>\n",
    "</table>"
   ]
  },
  {
   "cell_type": "code",
   "execution_count": 52,
   "metadata": {
    "colab": {},
    "colab_type": "code",
    "id": "9ZrA1LgcRbU6"
   },
   "outputs": [
    {
     "name": "stdout",
     "output_type": "stream",
     "text": [
      "<class 'numpy.ndarray'>\n",
      "2\n",
      "   Subject Marks\n",
      "0      Som    90\n",
      "1    Maths    78\n",
      "2  Physics    82\n"
     ]
    }
   ],
   "source": [
    "import numpy as np\n",
    "arr= np.array((['Som','Maths','Physics'],[90,78,82]))\n",
    "print(type(arr))\n",
    "print(arr.ndim)\n",
    "df=pd.DataFrame(arr,index=['Subject','Marks'])\n",
    "print(df.T)"
   ]
  },
  {
   "cell_type": "code",
   "execution_count": 57,
   "metadata": {},
   "outputs": [
    {
     "name": "stdout",
     "output_type": "stream",
     "text": [
      "           Subject Marks CGPA\n",
      "0   Thermodynamics    78  2.5\n",
      "1  Fluid Mechanics    67  3.5\n",
      "2        Mechanics    86  3.8\n",
      "3  Machine Designe    75  4.0\n"
     ]
    }
   ],
   "source": [
    "#Or\n",
    "Subject = np.array(['Thermodynamics','Fluid Mechanics','Mechanics','Machine Designe'])\n",
    "Marks = np.array([78,67,86,75])\n",
    "CGPA = np.array([2.5,3.5,3.8,4.0])\n",
    "df= pd.DataFrame([Subject,Marks,CGPA], index=['Subject','Marks','CGPA'])\n",
    "print(df.T)"
   ]
  },
  {
   "cell_type": "markdown",
   "metadata": {
    "colab_type": "text",
    "id": "zcrnxIZYRbU8"
   },
   "source": [
    "<table align=\"left\">\n",
    "    <tr>\n",
    "        <td width=\"6%\">\n",
    "            <img src=\"question_icon.png\">\n",
    "        </td>\n",
    "        <td>\n",
    "            <div align=\"left\", style=\"font-size:120%\">\n",
    "                <font color=\"#21618C\">\n",
    "                    <b>15. Write a programm to count total sales per store\n",
    "<b>\n",
    "                </font>\n",
    "            </div>\n",
    "        </td>\n",
    "    </tr>\n",
    "</table>"
   ]
  },
  {
   "cell_type": "markdown",
   "metadata": {
    "colab_type": "text",
    "id": "XLysA7uQRbU8"
   },
   "source": [
    "**Use the below dataframe:**<br>\n",
    "df_store = pd.DataFrame({'Store': ['A', 'B', 'A', 'C', 'D', 'A', 'D', 'A', 'C', 'B'],<br>\n",
    "                         'Location': ['Mumbai', 'Pune', 'Hyderabad', 'Mumbai', 'Pune', 'Delhi', 'Hyderabad', 'Pune',<br>\n",
    "                         'Mumbai', 'Pune'],<br>\n",
    "                         'Sales': [40000, 45600, 56000, 90000, 89000, 87000, 85000, 78000, 89000, 70000]<br>\n",
    "})"
   ]
  },
  {
   "cell_type": "code",
   "execution_count": 2,
   "metadata": {
    "colab": {},
    "colab_type": "code",
    "id": "mjgy4CPbRbU9"
   },
   "outputs": [
    {
     "name": "stdout",
     "output_type": "stream",
     "text": [
      "  Store   Location  Sales\n",
      "0     A     Mumbai  40000\n",
      "1     B       Pune  45600\n",
      "2     A  Hyderabad  56000\n",
      "3     C     Mumbai  90000\n",
      "4     D       Pune  89000\n",
      "5     A      Delhi  87000\n",
      "6     D  Hyderabad  85000\n",
      "7     A       Pune  78000\n",
      "8     C     Mumbai  89000\n",
      "9     B       Pune  70000\n",
      "total sales per store :-\n",
      "  Store   Location  Sales  TotalSales\n",
      "0     A     Mumbai  40000      261000\n",
      "1     B       Pune  45600      115600\n",
      "2     A  Hyderabad  56000      261000\n",
      "3     C     Mumbai  90000      179000\n",
      "4     D       Pune  89000      174000\n",
      "5     A      Delhi  87000      261000\n",
      "6     D  Hyderabad  85000      174000\n",
      "7     A       Pune  78000      261000\n",
      "8     C     Mumbai  89000      179000\n",
      "9     B       Pune  70000      115600\n"
     ]
    }
   ],
   "source": [
    "df_store = pd.DataFrame({'Store': ['A', 'B', 'A', 'C', 'D', 'A', 'D', 'A', 'C', 'B'],\n",
    "'Location': ['Mumbai', 'Pune', 'Hyderabad', 'Mumbai', 'Pune', 'Delhi', 'Hyderabad', 'Pune',\n",
    "'Mumbai', 'Pune'],\n",
    "'Sales': [40000, 45600, 56000, 90000, 89000, 87000, 85000, 78000, 89000, 70000]})\n",
    "print(df_store)\n",
    "df_store['TotalSales'] = df_store['Sales'].groupby(df_store['Store']).transform('sum')\n",
    "print('total sales per store :-')\n",
    "print(df_store)"
   ]
  },
  {
   "cell_type": "markdown",
   "metadata": {
    "colab_type": "text",
    "id": "Hz0wxdcdRbU_"
   },
   "source": [
    "<table align=\"left\">\n",
    "    <tr>\n",
    "        <td width=\"6%\">\n",
    "            <img src=\"question_icon.png\">\n",
    "        </td>\n",
    "        <td>\n",
    "            <div align=\"left\", style=\"font-size:120%\">\n",
    "                <font color=\"#21618C\">\n",
    "                    <b>16. Write a program to count the most common words in a list\n",
    "<b>\n",
    "                </font>\n",
    "            </div>\n",
    "        </td>\n",
    "    </tr>\n",
    "</table>"
   ]
  },
  {
   "cell_type": "markdown",
   "metadata": {
    "colab_type": "text",
    "id": "-CZInS5rRbU_"
   },
   "source": [
    "**Use the below list:**<br>\n",
    "words_list = ['words', 'will', 'where', 'shall', 'we', 'will', 'shall', 'we', 'words', 'where', 'shall'<br>\n",
    "        'will', 'there', 'wow', 'should', 'shall', 'we', 'where', 'should', 'where', 'will', 'there',<br>\n",
    "        'now', 'where', 'we', 'will', 'where', 'should', 'will', 'where']"
   ]
  },
  {
   "cell_type": "code",
   "execution_count": 9,
   "metadata": {
    "colab": {},
    "colab_type": "code",
    "id": "PmFSWdBhRbVA"
   },
   "outputs": [
    {
     "data": {
      "text/plain": [
       "where        7\n",
       "will         5\n",
       "we           4\n",
       "shall        3\n",
       "should       3\n",
       "words        2\n",
       "there        2\n",
       "shallwill    1\n",
       "wow          1\n",
       "now          1\n",
       "dtype: int64"
      ]
     },
     "execution_count": 9,
     "metadata": {},
     "output_type": "execute_result"
    }
   ],
   "source": [
    "words_list = ['words', 'will', 'where', 'shall', 'we', 'will', 'shall', 'we', 'words', 'where', 'shall'\n",
    "'will', 'there', 'wow', 'should', 'shall', 'we', 'where', 'should', 'where', 'will', 'there',\n",
    "'now', 'where', 'we', 'will', 'where', 'should', 'will', 'where']\n",
    "import numpy as np\n",
    "import pandas as pd\n",
    "pd.value_counts(np.array(words_list))\n"
   ]
  },
  {
   "cell_type": "markdown",
   "metadata": {
    "colab_type": "text",
    "id": "WOl1KoTmRbVC"
   },
   "source": [
    "<a id='sorting'></a>\n",
    "## 3. Sorting"
   ]
  },
  {
   "cell_type": "markdown",
   "metadata": {
    "colab_type": "text",
    "id": "2qIZZKw3RbVD"
   },
   "source": [
    "<table align=\"left\">\n",
    "    <tr>\n",
    "        <td width=\"6%\">\n",
    "            <img src=\"question_icon.png\">\n",
    "        </td>\n",
    "        <td>\n",
    "            <div align=\"left\", style=\"font-size:120%\">\n",
    "                <font color=\"#21618C\">\n",
    "                    <b>17. Write a program to sort the data frame by 'Sales' in ascending order\n",
    "<b>\n",
    "                </font>\n",
    "            </div>\n",
    "        </td>\n",
    "    </tr>\n",
    "</table>"
   ]
  },
  {
   "cell_type": "markdown",
   "metadata": {
    "colab_type": "text",
    "id": "S4QUDsQFRbVD"
   },
   "source": [
    "**Use the below dataframe:**<br>\n",
    "df_store = pd.DataFrame({'Store': ['A', 'B', 'A', 'C', 'D', 'A', 'D', 'A', 'C', 'B'],<br>\n",
    "                         'Location': ['Mumbai', 'Pune', 'Hyderabad', 'Mumbai', 'Pune', 'Delhi', 'Hyderabad', 'Pune',<br>\n",
    "                         'Mumbai', 'Pune'],<br>\n",
    "                         'Sales': [40000, 45600, 56000, 90000, 89000, 87000, 85000, 78000, 89000, 70000]<br>\n",
    "})"
   ]
  },
  {
   "cell_type": "code",
   "execution_count": 4,
   "metadata": {
    "colab": {},
    "colab_type": "code",
    "id": "PD3t4CEZRbVD"
   },
   "outputs": [
    {
     "name": "stdout",
     "output_type": "stream",
     "text": [
      "  Store   Location  Sales\n",
      "0     A     Mumbai  40000\n",
      "1     B       Pune  45600\n",
      "2     A  Hyderabad  56000\n",
      "3     C     Mumbai  90000\n",
      "4     D       Pune  89000\n",
      "5     A      Delhi  87000\n",
      "6     D  Hyderabad  85000\n",
      "7     A       Pune  78000\n",
      "8     C     Mumbai  89000\n",
      "9     B       Pune  70000\n",
      "df_store  by Sales in ascending order :-\n"
     ]
    },
    {
     "data": {
      "text/html": [
       "<div>\n",
       "<style scoped>\n",
       "    .dataframe tbody tr th:only-of-type {\n",
       "        vertical-align: middle;\n",
       "    }\n",
       "\n",
       "    .dataframe tbody tr th {\n",
       "        vertical-align: top;\n",
       "    }\n",
       "\n",
       "    .dataframe thead th {\n",
       "        text-align: right;\n",
       "    }\n",
       "</style>\n",
       "<table border=\"1\" class=\"dataframe\">\n",
       "  <thead>\n",
       "    <tr style=\"text-align: right;\">\n",
       "      <th></th>\n",
       "      <th>Store</th>\n",
       "      <th>Location</th>\n",
       "      <th>Sales</th>\n",
       "    </tr>\n",
       "  </thead>\n",
       "  <tbody>\n",
       "    <tr>\n",
       "      <th>0</th>\n",
       "      <td>A</td>\n",
       "      <td>Mumbai</td>\n",
       "      <td>40000</td>\n",
       "    </tr>\n",
       "    <tr>\n",
       "      <th>1</th>\n",
       "      <td>B</td>\n",
       "      <td>Pune</td>\n",
       "      <td>45600</td>\n",
       "    </tr>\n",
       "    <tr>\n",
       "      <th>2</th>\n",
       "      <td>A</td>\n",
       "      <td>Hyderabad</td>\n",
       "      <td>56000</td>\n",
       "    </tr>\n",
       "    <tr>\n",
       "      <th>9</th>\n",
       "      <td>B</td>\n",
       "      <td>Pune</td>\n",
       "      <td>70000</td>\n",
       "    </tr>\n",
       "    <tr>\n",
       "      <th>7</th>\n",
       "      <td>A</td>\n",
       "      <td>Pune</td>\n",
       "      <td>78000</td>\n",
       "    </tr>\n",
       "    <tr>\n",
       "      <th>6</th>\n",
       "      <td>D</td>\n",
       "      <td>Hyderabad</td>\n",
       "      <td>85000</td>\n",
       "    </tr>\n",
       "    <tr>\n",
       "      <th>5</th>\n",
       "      <td>A</td>\n",
       "      <td>Delhi</td>\n",
       "      <td>87000</td>\n",
       "    </tr>\n",
       "    <tr>\n",
       "      <th>4</th>\n",
       "      <td>D</td>\n",
       "      <td>Pune</td>\n",
       "      <td>89000</td>\n",
       "    </tr>\n",
       "    <tr>\n",
       "      <th>8</th>\n",
       "      <td>C</td>\n",
       "      <td>Mumbai</td>\n",
       "      <td>89000</td>\n",
       "    </tr>\n",
       "    <tr>\n",
       "      <th>3</th>\n",
       "      <td>C</td>\n",
       "      <td>Mumbai</td>\n",
       "      <td>90000</td>\n",
       "    </tr>\n",
       "  </tbody>\n",
       "</table>\n",
       "</div>"
      ],
      "text/plain": [
       "  Store   Location  Sales\n",
       "0     A     Mumbai  40000\n",
       "1     B       Pune  45600\n",
       "2     A  Hyderabad  56000\n",
       "9     B       Pune  70000\n",
       "7     A       Pune  78000\n",
       "6     D  Hyderabad  85000\n",
       "5     A      Delhi  87000\n",
       "4     D       Pune  89000\n",
       "8     C     Mumbai  89000\n",
       "3     C     Mumbai  90000"
      ]
     },
     "execution_count": 4,
     "metadata": {},
     "output_type": "execute_result"
    }
   ],
   "source": [
    "df_store = pd.DataFrame({'Store': ['A', 'B', 'A', 'C', 'D', 'A', 'D', 'A', 'C', 'B'],\n",
    "'Location': ['Mumbai', 'Pune', 'Hyderabad', 'Mumbai', 'Pune', 'Delhi', 'Hyderabad', 'Pune',\n",
    "'Mumbai', 'Pune'],\n",
    "'Sales': [40000, 45600, 56000, 90000, 89000, 87000, 85000, 78000, 89000, 70000]})\n",
    "print(df_store)\n",
    "print('df_store  by Sales in ascending order :-')\n",
    "df_store.sort_values('Sales')"
   ]
  },
  {
   "cell_type": "markdown",
   "metadata": {
    "colab_type": "text",
    "id": "QhYSth7eRbVG"
   },
   "source": [
    "<table align=\"left\">\n",
    "    <tr>\n",
    "        <td width=\"6%\">\n",
    "            <img src=\"question_icon.png\">\n",
    "        </td>\n",
    "        <td>\n",
    "            <div align=\"left\", style=\"font-size:120%\">\n",
    "                <font color=\"#21618C\">\n",
    "                    <b>18. Write a program to sort the data frame, first by 'Store' in ascending order, then by 'Sales' in descending order\n",
    "<b>\n",
    "                </font>\n",
    "            </div>\n",
    "        </td>\n",
    "    </tr>\n",
    "</table>"
   ]
  },
  {
   "cell_type": "markdown",
   "metadata": {
    "colab_type": "text",
    "id": "hvo37OG3RbVG"
   },
   "source": [
    "**Use the below dataframe:**<br>\n",
    "df_store = pd.DataFrame({'Store': ['A', 'B', 'A', 'C', 'D', 'A', 'D', 'A', 'C', 'B'],<br>\n",
    "                         'Location': ['Mumbai', 'Pune', 'Hyderabad', 'Mumbai', 'Pune', 'Delhi', 'Hyderabad', 'Pune',<br>\n",
    "                         'Mumbai', 'Pune'],<br>\n",
    "                         'Sales': [40000, 45600, 56000, 90000, 89000, 87000, 85000, 78000, 89000, 70000]<br>\n",
    "})"
   ]
  },
  {
   "cell_type": "code",
   "execution_count": 3,
   "metadata": {
    "colab": {},
    "colab_type": "code",
    "id": "DfxN_LxvRbVG"
   },
   "outputs": [
    {
     "name": "stdout",
     "output_type": "stream",
     "text": [
      "  Store   Location  Sales\n",
      "0     A     Mumbai  40000\n",
      "1     B       Pune  45600\n",
      "2     A  Hyderabad  56000\n",
      "3     C     Mumbai  90000\n",
      "4     D       Pune  89000\n",
      "5     A      Delhi  87000\n",
      "6     D  Hyderabad  85000\n",
      "7     A       Pune  78000\n",
      "8     C     Mumbai  89000\n",
      "9     B       Pune  70000\n",
      "df_store by Store in ascending order :-\n",
      "  Store   Location  Sales\n",
      "0     A     Mumbai  40000\n",
      "2     A  Hyderabad  56000\n",
      "5     A      Delhi  87000\n",
      "7     A       Pune  78000\n",
      "1     B       Pune  45600\n",
      "9     B       Pune  70000\n",
      "3     C     Mumbai  90000\n",
      "8     C     Mumbai  89000\n",
      "4     D       Pune  89000\n",
      "6     D  Hyderabad  85000\n",
      "df_store first by Store in ascending order, then by Sales in descending order :-\n",
      "  Store   Location  Sales\n",
      "4     D       Pune  89000\n",
      "6     D  Hyderabad  85000\n",
      "3     C     Mumbai  90000\n",
      "8     C     Mumbai  89000\n",
      "1     B       Pune  45600\n",
      "9     B       Pune  70000\n",
      "0     A     Mumbai  40000\n",
      "2     A  Hyderabad  56000\n",
      "5     A      Delhi  87000\n",
      "7     A       Pune  78000\n"
     ]
    }
   ],
   "source": [
    "df_store = pd.DataFrame({'Store': ['A', 'B', 'A', 'C', 'D', 'A', 'D', 'A', 'C', 'B'],\n",
    "'Location': ['Mumbai', 'Pune', 'Hyderabad', 'Mumbai', 'Pune', 'Delhi', 'Hyderabad', 'Pune',\n",
    "'Mumbai', 'Pune'],\n",
    "'Sales': [40000, 45600, 56000, 90000, 89000, 87000, 85000, 78000, 89000, 70000]})\n",
    "print(df_store)\n",
    "print('df_store by Store in ascending order :-')\n",
    "print(df_store.sort_values('Store'))\n",
    "print('df_store first by Store in ascending order, then by Sales in descending order :-')\n",
    "print(df_store.sort_values('Store',ascending=False))"
   ]
  },
  {
   "cell_type": "markdown",
   "metadata": {
    "colab_type": "text",
    "id": "PPg6Oh0RRbVI"
   },
   "source": [
    "<a id='ranking'></a>\n",
    "## 4. Ranking"
   ]
  },
  {
   "cell_type": "markdown",
   "metadata": {
    "colab_type": "text",
    "id": "BVQhfOqVRbVJ"
   },
   "source": [
    "<table align=\"left\">\n",
    "    <tr>\n",
    "        <td width=\"6%\">\n",
    "            <img src=\"question_icon.png\">\n",
    "        </td>\n",
    "        <td>\n",
    "            <div align=\"left\", style=\"font-size:120%\">\n",
    "                <font color=\"#21618C\">\n",
    "                    <b>19. Create a column Rating_Rank, which contains the rank of each store based on sales of the product in ascending order\n",
    "<b>\n",
    "                </font>\n",
    "            </div>\n",
    "        </td>\n",
    "    </tr>\n",
    "</table>"
   ]
  },
  {
   "cell_type": "markdown",
   "metadata": {
    "colab_type": "text",
    "id": "3O3pbAe0RbVJ"
   },
   "source": [
    "**Use the below dataframe:**<br>\n",
    "df_store = pd.DataFrame({'Store': ['A', 'B', 'A', 'C', 'D', 'A', 'D', 'A', 'C', 'B'],<br>\n",
    "                         'Location': ['Mumbai', 'Pune', 'Hyderabad', 'Mumbai', 'Pune', 'Delhi', 'Hyderabad', 'Pune',<br>\n",
    "                         'Mumbai', 'Pune'],<br>\n",
    "                         'Sales': [40000, 45600, 56000, 90000, 89000, 87000, 85000, 78000, 89000, 70000]<br>\n",
    "})"
   ]
  },
  {
   "cell_type": "code",
   "execution_count": 7,
   "metadata": {
    "colab": {},
    "colab_type": "code",
    "id": "0ujeCa_oRbVJ"
   },
   "outputs": [
    {
     "name": "stdout",
     "output_type": "stream",
     "text": [
      "  Store   Location  Sales\n",
      "0     A     Mumbai  40000\n",
      "1     B       Pune  45600\n",
      "2     A  Hyderabad  56000\n",
      "3     C     Mumbai  90000\n",
      "4     D       Pune  89000\n",
      "5     A      Delhi  87000\n",
      "6     D  Hyderabad  85000\n",
      "7     A       Pune  78000\n",
      "8     C     Mumbai  89000\n",
      "9     B       Pune  70000\n",
      "column Rating_Rank, which contains the rank of each store based on sales of the product in ascending order :-\n"
     ]
    },
    {
     "data": {
      "text/html": [
       "<div>\n",
       "<style scoped>\n",
       "    .dataframe tbody tr th:only-of-type {\n",
       "        vertical-align: middle;\n",
       "    }\n",
       "\n",
       "    .dataframe tbody tr th {\n",
       "        vertical-align: top;\n",
       "    }\n",
       "\n",
       "    .dataframe thead th {\n",
       "        text-align: right;\n",
       "    }\n",
       "</style>\n",
       "<table border=\"1\" class=\"dataframe\">\n",
       "  <thead>\n",
       "    <tr style=\"text-align: right;\">\n",
       "      <th></th>\n",
       "      <th>Store</th>\n",
       "      <th>Location</th>\n",
       "      <th>Sales</th>\n",
       "      <th>Rating_Rank</th>\n",
       "    </tr>\n",
       "  </thead>\n",
       "  <tbody>\n",
       "    <tr>\n",
       "      <th>0</th>\n",
       "      <td>A</td>\n",
       "      <td>Mumbai</td>\n",
       "      <td>40000</td>\n",
       "      <td>1.0</td>\n",
       "    </tr>\n",
       "    <tr>\n",
       "      <th>1</th>\n",
       "      <td>B</td>\n",
       "      <td>Pune</td>\n",
       "      <td>45600</td>\n",
       "      <td>1.0</td>\n",
       "    </tr>\n",
       "    <tr>\n",
       "      <th>2</th>\n",
       "      <td>A</td>\n",
       "      <td>Hyderabad</td>\n",
       "      <td>56000</td>\n",
       "      <td>1.0</td>\n",
       "    </tr>\n",
       "    <tr>\n",
       "      <th>3</th>\n",
       "      <td>C</td>\n",
       "      <td>Mumbai</td>\n",
       "      <td>90000</td>\n",
       "      <td>1.0</td>\n",
       "    </tr>\n",
       "    <tr>\n",
       "      <th>4</th>\n",
       "      <td>D</td>\n",
       "      <td>Pune</td>\n",
       "      <td>89000</td>\n",
       "      <td>2.0</td>\n",
       "    </tr>\n",
       "    <tr>\n",
       "      <th>5</th>\n",
       "      <td>A</td>\n",
       "      <td>Delhi</td>\n",
       "      <td>87000</td>\n",
       "      <td>1.0</td>\n",
       "    </tr>\n",
       "    <tr>\n",
       "      <th>6</th>\n",
       "      <td>D</td>\n",
       "      <td>Hyderabad</td>\n",
       "      <td>85000</td>\n",
       "      <td>1.0</td>\n",
       "    </tr>\n",
       "    <tr>\n",
       "      <th>7</th>\n",
       "      <td>A</td>\n",
       "      <td>Pune</td>\n",
       "      <td>78000</td>\n",
       "      <td>1.0</td>\n",
       "    </tr>\n",
       "    <tr>\n",
       "      <th>8</th>\n",
       "      <td>C</td>\n",
       "      <td>Mumbai</td>\n",
       "      <td>89000</td>\n",
       "      <td>1.0</td>\n",
       "    </tr>\n",
       "    <tr>\n",
       "      <th>9</th>\n",
       "      <td>B</td>\n",
       "      <td>Pune</td>\n",
       "      <td>70000</td>\n",
       "      <td>1.0</td>\n",
       "    </tr>\n",
       "  </tbody>\n",
       "</table>\n",
       "</div>"
      ],
      "text/plain": [
       "  Store   Location  Sales  Rating_Rank\n",
       "0     A     Mumbai  40000          1.0\n",
       "1     B       Pune  45600          1.0\n",
       "2     A  Hyderabad  56000          1.0\n",
       "3     C     Mumbai  90000          1.0\n",
       "4     D       Pune  89000          2.0\n",
       "5     A      Delhi  87000          1.0\n",
       "6     D  Hyderabad  85000          1.0\n",
       "7     A       Pune  78000          1.0\n",
       "8     C     Mumbai  89000          1.0\n",
       "9     B       Pune  70000          1.0"
      ]
     },
     "execution_count": 7,
     "metadata": {},
     "output_type": "execute_result"
    }
   ],
   "source": [
    "df_store = pd.DataFrame({'Store': ['A', 'B', 'A', 'C', 'D', 'A', 'D', 'A', 'C', 'B'],\n",
    "'Location': ['Mumbai', 'Pune', 'Hyderabad', 'Mumbai', 'Pune', 'Delhi', 'Hyderabad', 'Pune',\n",
    "'Mumbai', 'Pune'],\n",
    "'Sales': [40000, 45600, 56000, 90000, 89000, 87000, 85000, 78000, 89000, 70000]})\n",
    "print(df_store)\n",
    "print('column Rating_Rank, which contains the rank of each store based on sales of the product in ascending order :-')\n",
    "df_store['Rating_Rank']=df_store.groupby('Sales')['Store'].rank(ascending=True,method='dense')\n",
    "df_store\n"
   ]
  },
  {
   "cell_type": "markdown",
   "metadata": {
    "colab_type": "text",
    "id": "1yxI_hliRbVL"
   },
   "source": [
    "<table align=\"left\">\n",
    "    <tr>\n",
    "        <td width=\"6%\">\n",
    "            <img src=\"question_icon.png\">\n",
    "        </td>\n",
    "        <td>\n",
    "            <div align=\"left\", style=\"font-size:120%\">\n",
    "                <font color=\"#21618C\">\n",
    "                    <b>20. Rank the data frame in descending order of sales by store\n",
    "<b>\n",
    "                </font>\n",
    "            </div>\n",
    "        </td>\n",
    "    </tr>\n",
    "</table>"
   ]
  },
  {
   "cell_type": "markdown",
   "metadata": {
    "colab_type": "text",
    "id": "5Ov910e6RbVM"
   },
   "source": [
    "**Use the 'df_store' data frame**"
   ]
  },
  {
   "cell_type": "code",
   "execution_count": 9,
   "metadata": {
    "colab": {},
    "colab_type": "code",
    "id": "hJBVaDErRbVM"
   },
   "outputs": [
    {
     "name": "stdout",
     "output_type": "stream",
     "text": [
      "  Store   Location  Sales\n",
      "0     A     Mumbai  40000\n",
      "1     B       Pune  45600\n",
      "2     A  Hyderabad  56000\n",
      "3     C     Mumbai  90000\n",
      "4     D       Pune  89000\n",
      "5     A      Delhi  87000\n",
      "6     D  Hyderabad  85000\n",
      "7     A       Pune  78000\n",
      "8     C     Mumbai  89000\n",
      "9     B       Pune  70000\n",
      "Data frame in descending order of sales by store :-\n"
     ]
    },
    {
     "data": {
      "text/html": [
       "<div>\n",
       "<style scoped>\n",
       "    .dataframe tbody tr th:only-of-type {\n",
       "        vertical-align: middle;\n",
       "    }\n",
       "\n",
       "    .dataframe tbody tr th {\n",
       "        vertical-align: top;\n",
       "    }\n",
       "\n",
       "    .dataframe thead th {\n",
       "        text-align: right;\n",
       "    }\n",
       "</style>\n",
       "<table border=\"1\" class=\"dataframe\">\n",
       "  <thead>\n",
       "    <tr style=\"text-align: right;\">\n",
       "      <th></th>\n",
       "      <th>Store</th>\n",
       "      <th>Location</th>\n",
       "      <th>Sales</th>\n",
       "      <th>Rating_Rank</th>\n",
       "    </tr>\n",
       "  </thead>\n",
       "  <tbody>\n",
       "    <tr>\n",
       "      <th>0</th>\n",
       "      <td>A</td>\n",
       "      <td>Mumbai</td>\n",
       "      <td>40000</td>\n",
       "      <td>4.0</td>\n",
       "    </tr>\n",
       "    <tr>\n",
       "      <th>1</th>\n",
       "      <td>B</td>\n",
       "      <td>Pune</td>\n",
       "      <td>45600</td>\n",
       "      <td>2.0</td>\n",
       "    </tr>\n",
       "    <tr>\n",
       "      <th>2</th>\n",
       "      <td>A</td>\n",
       "      <td>Hyderabad</td>\n",
       "      <td>56000</td>\n",
       "      <td>3.0</td>\n",
       "    </tr>\n",
       "    <tr>\n",
       "      <th>3</th>\n",
       "      <td>C</td>\n",
       "      <td>Mumbai</td>\n",
       "      <td>90000</td>\n",
       "      <td>1.0</td>\n",
       "    </tr>\n",
       "    <tr>\n",
       "      <th>4</th>\n",
       "      <td>D</td>\n",
       "      <td>Pune</td>\n",
       "      <td>89000</td>\n",
       "      <td>1.0</td>\n",
       "    </tr>\n",
       "    <tr>\n",
       "      <th>5</th>\n",
       "      <td>A</td>\n",
       "      <td>Delhi</td>\n",
       "      <td>87000</td>\n",
       "      <td>1.0</td>\n",
       "    </tr>\n",
       "    <tr>\n",
       "      <th>6</th>\n",
       "      <td>D</td>\n",
       "      <td>Hyderabad</td>\n",
       "      <td>85000</td>\n",
       "      <td>2.0</td>\n",
       "    </tr>\n",
       "    <tr>\n",
       "      <th>7</th>\n",
       "      <td>A</td>\n",
       "      <td>Pune</td>\n",
       "      <td>78000</td>\n",
       "      <td>2.0</td>\n",
       "    </tr>\n",
       "    <tr>\n",
       "      <th>8</th>\n",
       "      <td>C</td>\n",
       "      <td>Mumbai</td>\n",
       "      <td>89000</td>\n",
       "      <td>2.0</td>\n",
       "    </tr>\n",
       "    <tr>\n",
       "      <th>9</th>\n",
       "      <td>B</td>\n",
       "      <td>Pune</td>\n",
       "      <td>70000</td>\n",
       "      <td>1.0</td>\n",
       "    </tr>\n",
       "  </tbody>\n",
       "</table>\n",
       "</div>"
      ],
      "text/plain": [
       "  Store   Location  Sales  Rating_Rank\n",
       "0     A     Mumbai  40000          4.0\n",
       "1     B       Pune  45600          2.0\n",
       "2     A  Hyderabad  56000          3.0\n",
       "3     C     Mumbai  90000          1.0\n",
       "4     D       Pune  89000          1.0\n",
       "5     A      Delhi  87000          1.0\n",
       "6     D  Hyderabad  85000          2.0\n",
       "7     A       Pune  78000          2.0\n",
       "8     C     Mumbai  89000          2.0\n",
       "9     B       Pune  70000          1.0"
      ]
     },
     "execution_count": 9,
     "metadata": {},
     "output_type": "execute_result"
    }
   ],
   "source": [
    "df_store = pd.DataFrame({'Store': ['A', 'B', 'A', 'C', 'D', 'A', 'D', 'A', 'C', 'B'],\n",
    "'Location': ['Mumbai', 'Pune', 'Hyderabad', 'Mumbai', 'Pune', 'Delhi', 'Hyderabad', 'Pune',\n",
    "'Mumbai', 'Pune'],\n",
    "'Sales': [40000, 45600, 56000, 90000, 89000, 87000, 85000, 78000, 89000, 70000]})\n",
    "print(df_store)\n",
    "print('Data frame in descending order of sales by store :-')\n",
    "df_store['Rating_Rank']=df_store.groupby('Store')['Sales'].rank(ascending=0,method='dense')\n",
    "df_store"
   ]
  },
  {
   "cell_type": "code",
   "execution_count": null,
   "metadata": {},
   "outputs": [],
   "source": []
  }
 ],
 "metadata": {
  "colab": {
   "name": "NPV - INCLASS - LAB (DAY 2)  -  Questions  [V1.0 - 090120].ipynb",
   "provenance": []
  },
  "kernelspec": {
   "display_name": "Python 3 (ipykernel)",
   "language": "python",
   "name": "python3"
  },
  "language_info": {
   "codemirror_mode": {
    "name": "ipython",
    "version": 3
   },
   "file_extension": ".py",
   "mimetype": "text/x-python",
   "name": "python",
   "nbconvert_exporter": "python",
   "pygments_lexer": "ipython3",
   "version": "3.9.7"
  }
 },
 "nbformat": 4,
 "nbformat_minor": 1
}
